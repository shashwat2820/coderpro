{
 "cells": [
  {
   "cell_type": "code",
   "execution_count": 27,
   "metadata": {},
   "outputs": [],
   "source": [
    "# this is the implementation of the cnn classification model of the mnist dataset for handwritten digits  \r\n",
    "import numpy as np \r\n",
    "import pandas as pd \r\n",
    "import tensorflow as tf \r\n",
    "# Import MNIST dataset under Keras API\r\n",
    "# MNIST - Modified National Institute of Standards and Technology\r\n",
    "# Splitting dataset into training & testing,\r\n",
    "# where x_train & x_test contains greyscale RGB codes from 0 - 255,\r\n",
    "# and y_train & y_test contains labels from 0 - 9 (actual numbers)\r\n",
    "(x_train , y_train) , (x_test , y_test ) = tf.keras.datasets.mnist.load_data()\r\n",
    "#MNIST consists of 60000 training examples and 10000 testing examples "
   ]
  },
  {
   "cell_type": "code",
   "execution_count": 28,
   "metadata": {},
   "outputs": [
    {
     "name": "stdout",
     "output_type": "stream",
     "text": [
      "8\n"
     ]
    },
    {
     "data": {
      "text/plain": [
       "<matplotlib.image.AxesImage at 0x1d586dee400>"
      ]
     },
     "execution_count": 28,
     "metadata": {},
     "output_type": "execute_result"
    },
    {
     "data": {
      "image/png": "[encoded data removed]",
      "text/plain": [
       "<Figure size 432x288 with 1 Axes>"
      ]
     },
     "metadata": {
      "needs_background": "light"
     },
     "output_type": "display_data"
    }
   ],
   "source": [
    "#visualization and data loading confirmation\r\n",
    "import matplotlib.pyplot as plt  \r\n",
    "%matplotlib inline \r\n",
    "image_index = 7777 # can be any number between 0 to 60000 \r\n",
    "print(y_train[image_index])\r\n",
    "plt.imshow(x_train[image_index] , cmap = 'Greys')\r\n"
   ]
  },
  {
   "cell_type": "code",
   "execution_count": 29,
   "metadata": {},
   "outputs": [
    {
     "name": "stdout",
     "output_type": "stream",
     "text": [
      "(60000, 28, 28)\n",
      "(10000, 28, 28)\n",
      "(60000,)\n",
      "(10000,)\n"
     ]
    }
   ],
   "source": [
    "# to show the shape of the loaded dataset\r\n",
    "print(x_train.shape)\r\n",
    "print(x_test.shape)\r\n",
    "print(y_train.shape)\r\n",
    "print(y_test.shape)"
   ]
  },
  {
   "cell_type": "code",
   "execution_count": 30,
   "metadata": {},
   "outputs": [
    {
     "name": "stdout",
     "output_type": "stream",
     "text": [
      "x_train shape :  (60000, 28, 28, 1)\n",
      "the number of images in x_train:  60000\n",
      "the numeber of images in x_test 10000\n"
     ]
    }
   ],
   "source": [
    "# resashaping the pixel data arrays to have a single color channel i.e grey scale \r\n",
    "x_train = x_train.reshape(x_train.shape[0] , 28 , 28 , 1)\r\n",
    "x_test = x_test.reshape(x_test.shape[0] , 28 , 28 , 1)\r\n",
    "input_shape = (28 ,28 , 1 )\r\n",
    "\r\n",
    "# to make sure that the datatype of the pixel matrixs is float \r\n",
    "x_train = x_train.astype('float32')\r\n",
    "x_test = x_test.astype('float32')\r\n",
    "\r\n",
    "# normalizing(puting them in the range[0,1] ) the grey scale values of the pixel by dividing it by 255(maximmum grey scale value-- for white)\r\n",
    "x_train  /= 255  \r\n",
    "x_test /= 255\r\n",
    "print(\"x_train shape : \" ,   x_train.shape)\r\n",
    "print(\"the number of images in x_train: \", x_train.shape[0] )\r\n",
    "print(\"the numeber of images in x_test\"  ,  x_test.shape[0])\r\n"
   ]
  },
  {
   "cell_type": "code",
   "execution_count": 31,
   "metadata": {},
   "outputs": [],
   "source": [
    "# definition of the cnn model\r\n",
    "from tensorflow.keras.models import Sequential\r\n",
    "from tensorflow.keras.layers import Conv2D , Dense , MaxPooling2D , Dropout , Flatten \r\n",
    "\r\n",
    "model = Sequential()# Keras API fro CNN\r\n",
    "\r\n",
    "model.add(Conv2D(28, kernel_size=(3,3) , input_shape = input_shape)) # Convlational Layer , performs the convolution \r\n",
    "#(no.of filters , filter/kernel size , input_shape(by default you have to include this argument if you are taking this layer as the first layer))\r\n",
    "\r\n",
    "model.add(MaxPooling2D(pool_size=(2,2)))  # reduces the size of the input for the neural network\r\n",
    "# by taking the maximum element from the input matrix in according to the the pool_size = (2,2) by default)\r\n",
    "\r\n",
    "model.add(Flatten()) # flattens the input for the nn by converting it to a vector \r\n",
    "model.add(Dense(128 , activation = tf.nn.relu))  #  outputs 'activation(dot(input,kernel) + bias)' , kernel is the weight matrix created by the layer  Dense(no. of units , actvatiomn function)\r\n",
    "\r\n",
    "model.add(Dropout(0.2)) # the dropout layer randomly sets the input units to 0 ath the frequency of rate , here rate = 0.2 , it avoids the overfitting of the model \r\n",
    "\r\n",
    "model.add(Dense(10, activation = tf.nn.softmax))\r\n",
    "\r\n",
    "# the above will create a basic cnn model "
   ]
  },
  {
   "cell_type": "code",
   "execution_count": 32,
   "metadata": {},
   "outputs": [
    {
     "name": "stdout",
     "output_type": "stream",
     "text": [
      "Epoch 1/10\n",
      "1875/1875 [==============================] - 28s 14ms/step - loss: 0.2210 - accuracy: 0.9336\n",
      "Epoch 2/10\n",
      "1875/1875 [==============================] - 24s 13ms/step - loss: 0.0863 - accuracy: 0.9734\n",
      "Epoch 3/10\n",
      "1875/1875 [==============================] - 24s 13ms/step - loss: 0.0597 - accuracy: 0.9808\n",
      "Epoch 4/10\n",
      "1875/1875 [==============================] - 24s 13ms/step - loss: 0.0461 - accuracy: 0.9852\n",
      "Epoch 5/10\n",
      "1875/1875 [==============================] - 20s 11ms/step - loss: 0.0354 - accuracy: 0.9881\n",
      "Epoch 6/10\n",
      "1875/1875 [==============================] - 22s 12ms/step - loss: 0.0309 - accuracy: 0.9896\n",
      "Epoch 7/10\n",
      "1875/1875 [==============================] - 22s 12ms/step - loss: 0.0239 - accuracy: 0.9921\n",
      "Epoch 8/10\n",
      "1875/1875 [==============================] - 23s 12ms/step - loss: 0.0218 - accuracy: 0.9925\n",
      "Epoch 9/10\n",
      "1875/1875 [==============================] - 23s 12ms/step - loss: 0.0219 - accuracy: 0.9930\n",
      "Epoch 10/10\n",
      "1875/1875 [==============================] - 21s 11ms/step - loss: 0.0195 - accuracy: 0.9933\n"
     ]
    },
    {
     "data": {
      "text/plain": [
       "<tensorflow.python.keras.callbacks.History at 0x1d586e6bb20>"
      ]
     },
     "execution_count": 32,
     "metadata": {},
     "output_type": "execute_result"
    }
   ],
   "source": [
    "#optimizing the model \r\n",
    "model.compile(optimizer = 'adam' , loss = 'sparse_categorical_crossentropy' , metrics = ['accuracy'])\r\n",
    "\r\n",
    "model.fit(x=x_train , y=y_train , epochs = 10)# fitting the model with 10 epochs/iterations "
   ]
  },
  {
   "cell_type": "code",
   "execution_count": 37,
   "metadata": {},
   "outputs": [
    {
     "name": "stdout",
     "output_type": "stream",
     "text": [
      "313/313 [==============================] - 1s 4ms/step - loss: 0.0608 - accuracy: 0.9853\n",
      "test loss : 0.0607902817428112\n",
      "test accuracy :  98.53000044822693 %\n"
     ]
    }
   ],
   "source": [
    "# model evaluation using x_test and y_test\r\n",
    "m = model.evaluate(x_test , y_test)\r\n",
    "print('test loss :' , m[0])\r\n",
    "print('test accuracy : ' , m[1]*100 ,'%')\r\n",
    "\r\n"
   ]
  },
  {
   "cell_type": "code",
   "execution_count": 41,
   "metadata": {},
   "outputs": [
    {
     "name": "stdout",
     "output_type": "stream",
     "text": [
      "the recognised number is : 5\n"
     ]
    },
    {
     "data": {
      "image/png": "[encoded data removed]",
      "text/plain": [
       "<Figure size 432x288 with 1 Axes>"
      ]
     },
     "metadata": {
      "needs_background": "light"
     },
     "output_type": "display_data"
    }
   ],
   "source": [
    "# prediction using our trained model\r\n",
    "image_index = 7777\r\n",
    "plt.imshow(x_test[image_index].reshape(28,28) , cmap='Greys')\r\n",
    "pred = model.predict(x_test[image_index].reshape(1,28,28,1))\r\n",
    "\r\n",
    "print(\"the recognised number is :\" , pred.argmax())\r\n"
   ]
  }
 ],
 "metadata": {
  "interpreter": {
   "hash": "7c62bde2bd420ee1979732cd240f717f623403773863cbe09c44ab7a575b370b"
  },
  "kernelspec": {
   "display_name": "Python 3.9.1 64-bit",
   "name": "python3"
  },
  "language_info": {
   "codemirror_mode": {
    "name": "ipython",
    "version": 3
   },
   "file_extension": ".py",
   "mimetype": "text/x-python",
   "name": "python",
   "nbconvert_exporter": "python",
   "pygments_lexer": "ipython3",
   "version": "3.9.1"
  },
  "orig_nbformat": 4
 },
 "nbformat": 4,
 "nbformat_minor": 2
}